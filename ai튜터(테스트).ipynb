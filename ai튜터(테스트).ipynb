{
  "nbformat": 4,
  "nbformat_minor": 0,
  "metadata": {
    "colab": {
      "provenance": [],
      "gpuType": "T4",
      "toc_visible": true,
      "mount_file_id": "1QaCSoYhP2FfXGE_VkcImuQTyKFC1G-Hk",
      "authorship_tag": "ABX9TyPGD4u24IcWjSVlkt4iPlfh",
      "include_colab_link": true
    },
    "kernelspec": {
      "name": "python3",
      "display_name": "Python 3"
    },
    "language_info": {
      "name": "python"
    },
    "accelerator": "GPU"
  },
  "cells": [
    {
      "cell_type": "markdown",
      "metadata": {
        "id": "view-in-github",
        "colab_type": "text"
      },
      "source": [
        "<a href=\"https://colab.research.google.com/github/Kyungbok-ai-study/cyj/blob/main/ai%ED%8A%9C%ED%84%B0(%ED%85%8C%EC%8A%A4%ED%8A%B8).ipynb\" target=\"_parent\"><img src=\"https://colab.research.google.com/assets/colab-badge.svg\" alt=\"Open In Colab\"/></a>"
      ]
    },
    {
      "cell_type": "code",
      "source": [
        "from google.colab import drive\n",
        "drive.mount('/content/drive')"
      ],
      "metadata": {
        "colab": {
          "base_uri": "https://localhost:8080/"
        },
        "id": "JFpz_H5dEqQX",
        "outputId": "7664a56e-f947-4142-8e64-9da30fa7433f"
      },
      "execution_count": null,
      "outputs": [
        {
          "output_type": "stream",
          "name": "stdout",
          "text": [
            "Drive already mounted at /content/drive; to attempt to forcibly remount, call drive.mount(\"/content/drive\", force_remount=True).\n"
          ]
        }
      ]
    },
    {
      "cell_type": "code",
      "source": [
        "# 필요한 패키지 설치 (버전 명시)\n",
        "!pip install faiss-cpu langchain-text-splitters python-docx unstructured langchain_community llama-index gradio docx2txt -qqq\n",
        "!pip install --upgrade \"google-genai>=1.7.0\" \"langchain-google-genai>=2.1.3\" -qqq\n"
      ],
      "metadata": {
        "collapsed": true,
        "id": "tDJ_m7Aq6XN8",
        "colab": {
          "base_uri": "https://localhost:8080/"
        },
        "outputId": "26cbdc00-a150-4269-d36f-36f902ea9f46"
      },
      "execution_count": null,
      "outputs": [
        {
          "output_type": "stream",
          "name": "stdout",
          "text": [
            "\u001b[?25l     \u001b[90m━━━━━━━━━━━━━━━━━━━━━━━━━━━━━━━━━━━━━━━━\u001b[0m \u001b[32m0.0/981.5 kB\u001b[0m \u001b[31m?\u001b[0m eta \u001b[36m-:--:--\u001b[0m\r\u001b[2K     \u001b[91m━━━━━━━━━━━━━━━━━━━━━━━━━━━━━━━━━━━━━\u001b[0m\u001b[91m╸\u001b[0m \u001b[32m972.8/981.5 kB\u001b[0m \u001b[31m41.4 MB/s\u001b[0m eta \u001b[36m0:00:01\u001b[0m\r\u001b[2K     \u001b[90m━━━━━━━━━━━━━━━━━━━━━━━━━━━━━━━━━━━━━━\u001b[0m \u001b[32m981.5/981.5 kB\u001b[0m \u001b[31m24.9 MB/s\u001b[0m eta \u001b[36m0:00:00\u001b[0m\n",
            "\u001b[?25h  Preparing metadata (setup.py) ... \u001b[?25l\u001b[?25hdone\n",
            "\u001b[2K   \u001b[90m━━━━━━━━━━━━━━━━━━━━━━━━━━━━━━━━━━━━━━━━\u001b[0m \u001b[32m30.7/30.7 MB\u001b[0m \u001b[31m50.5 MB/s\u001b[0m eta \u001b[36m0:00:00\u001b[0m\n",
            "\u001b[2K   \u001b[90m━━━━━━━━━━━━━━━━━━━━━━━━━━━━━━━━━━━━━━━━\u001b[0m \u001b[32m244.3/244.3 kB\u001b[0m \u001b[31m18.3 MB/s\u001b[0m eta \u001b[36m0:00:00\u001b[0m\n",
            "\u001b[2K   \u001b[90m━━━━━━━━━━━━━━━━━━━━━━━━━━━━━━━━━━━━━━━━\u001b[0m \u001b[32m1.8/1.8 MB\u001b[0m \u001b[31m66.9 MB/s\u001b[0m eta \u001b[36m0:00:00\u001b[0m\n",
            "\u001b[2K   \u001b[90m━━━━━━━━━━━━━━━━━━━━━━━━━━━━━━━━━━━━━━━━\u001b[0m \u001b[32m2.5/2.5 MB\u001b[0m \u001b[31m64.1 MB/s\u001b[0m eta \u001b[36m0:00:00\u001b[0m\n",
            "\u001b[2K   \u001b[90m━━━━━━━━━━━━━━━━━━━━━━━━━━━━━━━━━━━━━━━━\u001b[0m \u001b[32m46.9/46.9 MB\u001b[0m \u001b[31m11.5 MB/s\u001b[0m eta \u001b[36m0:00:00\u001b[0m\n",
            "\u001b[2K   \u001b[90m━━━━━━━━━━━━━━━━━━━━━━━━━━━━━━━━━━━━━━━━\u001b[0m \u001b[32m322.2/322.2 kB\u001b[0m \u001b[31m15.6 MB/s\u001b[0m eta \u001b[36m0:00:00\u001b[0m\n",
            "\u001b[2K   \u001b[90m━━━━━━━━━━━━━━━━━━━━━━━━━━━━━━━━━━━━━━━━\u001b[0m \u001b[32m95.2/95.2 kB\u001b[0m \u001b[31m7.1 MB/s\u001b[0m eta \u001b[36m0:00:00\u001b[0m\n",
            "\u001b[2K   \u001b[90m━━━━━━━━━━━━━━━━━━━━━━━━━━━━━━━━━━━━━━━━\u001b[0m \u001b[32m808.7/808.7 kB\u001b[0m \u001b[31m37.9 MB/s\u001b[0m eta \u001b[36m0:00:00\u001b[0m\n",
            "\u001b[2K   \u001b[90m━━━━━━━━━━━━━━━━━━━━━━━━━━━━━━━━━━━━━━━━\u001b[0m \u001b[32m40.8/40.8 kB\u001b[0m \u001b[31m2.7 MB/s\u001b[0m eta \u001b[36m0:00:00\u001b[0m\n",
            "\u001b[2K   \u001b[90m━━━━━━━━━━━━━━━━━━━━━━━━━━━━━━━━━━━━━━━━\u001b[0m \u001b[32m44.4/44.4 kB\u001b[0m \u001b[31m3.1 MB/s\u001b[0m eta \u001b[36m0:00:00\u001b[0m\n",
            "\u001b[2K   \u001b[90m━━━━━━━━━━━━━━━━━━━━━━━━━━━━━━━━━━━━━━━━\u001b[0m \u001b[32m11.5/11.5 MB\u001b[0m \u001b[31m73.0 MB/s\u001b[0m eta \u001b[36m0:00:00\u001b[0m\n",
            "\u001b[2K   \u001b[90m━━━━━━━━━━━━━━━━━━━━━━━━━━━━━━━━━━━━━━━━\u001b[0m \u001b[32m72.0/72.0 kB\u001b[0m \u001b[31m5.8 MB/s\u001b[0m eta \u001b[36m0:00:00\u001b[0m\n",
            "\u001b[2K   \u001b[90m━━━━━━━━━━━━━━━━━━━━━━━━━━━━━━━━━━━━━━━━\u001b[0m \u001b[32m62.5/62.5 kB\u001b[0m \u001b[31m5.1 MB/s\u001b[0m eta \u001b[36m0:00:00\u001b[0m\n",
            "\u001b[2K   \u001b[90m━━━━━━━━━━━━━━━━━━━━━━━━━━━━━━━━━━━━━━━━\u001b[0m \u001b[32m590.6/590.6 kB\u001b[0m \u001b[31m29.8 MB/s\u001b[0m eta \u001b[36m0:00:00\u001b[0m\n",
            "\u001b[2K   \u001b[90m━━━━━━━━━━━━━━━━━━━━━━━━━━━━━━━━━━━━━━━━\u001b[0m \u001b[32m167.6/167.6 kB\u001b[0m \u001b[31m10.4 MB/s\u001b[0m eta \u001b[36m0:00:00\u001b[0m\n",
            "\u001b[2K   \u001b[90m━━━━━━━━━━━━━━━━━━━━━━━━━━━━━━━━━━━━━━━━\u001b[0m \u001b[32m3.1/3.1 MB\u001b[0m \u001b[31m52.1 MB/s\u001b[0m eta \u001b[36m0:00:00\u001b[0m\n",
            "\u001b[2K   \u001b[90m━━━━━━━━━━━━━━━━━━━━━━━━━━━━━━━━━━━━━━━━\u001b[0m \u001b[32m181.4/181.4 kB\u001b[0m \u001b[31m10.1 MB/s\u001b[0m eta \u001b[36m0:00:00\u001b[0m\n",
            "\u001b[2K   \u001b[90m━━━━━━━━━━━━━━━━━━━━━━━━━━━━━━━━━━━━━━━━\u001b[0m \u001b[32m253.1/253.1 kB\u001b[0m \u001b[31m17.6 MB/s\u001b[0m eta \u001b[36m0:00:00\u001b[0m\n",
            "\u001b[2K   \u001b[90m━━━━━━━━━━━━━━━━━━━━━━━━━━━━━━━━━━━━━━━━\u001b[0m \u001b[32m50.9/50.9 kB\u001b[0m \u001b[31m3.8 MB/s\u001b[0m eta \u001b[36m0:00:00\u001b[0m\n",
            "\u001b[2K   \u001b[90m━━━━━━━━━━━━━━━━━━━━━━━━━━━━━━━━━━━━━━━━\u001b[0m \u001b[32m302.3/302.3 kB\u001b[0m \u001b[31m20.3 MB/s\u001b[0m eta \u001b[36m0:00:00\u001b[0m\n",
            "\u001b[2K   \u001b[90m━━━━━━━━━━━━━━━━━━━━━━━━━━━━━━━━━━━━━━━━\u001b[0m \u001b[32m1.2/1.2 MB\u001b[0m \u001b[31m42.4 MB/s\u001b[0m eta \u001b[36m0:00:00\u001b[0m\n",
            "\u001b[2K   \u001b[90m━━━━━━━━━━━━━━━━━━━━━━━━━━━━━━━━━━━━━━━━\u001b[0m \u001b[32m114.6/114.6 kB\u001b[0m \u001b[31m8.9 MB/s\u001b[0m eta \u001b[36m0:00:00\u001b[0m\n",
            "\u001b[2K   \u001b[90m━━━━━━━━━━━━━━━━━━━━━━━━━━━━━━━━━━━━━━━━\u001b[0m \u001b[32m129.2/129.2 kB\u001b[0m \u001b[31m9.5 MB/s\u001b[0m eta \u001b[36m0:00:00\u001b[0m\n",
            "\u001b[?25h  Building wheel for langdetect (setup.py) ... \u001b[?25l\u001b[?25hdone\n",
            "\u001b[2K   \u001b[90m━━━━━━━━━━━━━━━━━━━━━━━━━━━━━━━━━━━━━━━━\u001b[0m \u001b[32m159.7/159.7 kB\u001b[0m \u001b[31m9.2 MB/s\u001b[0m eta \u001b[36m0:00:00\u001b[0m\n",
            "\u001b[2K   \u001b[90m━━━━━━━━━━━━━━━━━━━━━━━━━━━━━━━━━━━━━━━━\u001b[0m \u001b[32m43.7/43.7 kB\u001b[0m \u001b[31m2.7 MB/s\u001b[0m eta \u001b[36m0:00:00\u001b[0m\n",
            "\u001b[2K   \u001b[90m━━━━━━━━━━━━━━━━━━━━━━━━━━━━━━━━━━━━━━━━\u001b[0m \u001b[32m1.4/1.4 MB\u001b[0m \u001b[31m36.6 MB/s\u001b[0m eta \u001b[36m0:00:00\u001b[0m\n",
            "\u001b[?25h\u001b[31mERROR: pip's dependency resolver does not currently take into account all the packages that are installed. This behaviour is the source of the following dependency conflicts.\n",
            "google-generativeai 0.8.4 requires google-ai-generativelanguage==0.6.15, but you have google-ai-generativelanguage 0.6.17 which is incompatible.\u001b[0m\u001b[31m\n",
            "\u001b[0m"
          ]
        }
      ]
    },
    {
      "cell_type": "markdown",
      "source": [
        "# **1단계 : 문서 로드**"
      ],
      "metadata": {
        "id": "mc4Z5XeFj3rF"
      }
    },
    {
      "cell_type": "code",
      "source": [
        "from langchain_community.document_loaders import Docx2txtLoader\n",
        "\n",
        "loader = Docx2txtLoader(\"/content/drive/MyDrive/(난이도표시본) 샘플문제 워드로 다시.docx\")  # 문서 로더 초기화\n",
        "\n",
        "docs = loader.load()  # 문서 로딩\n",
        "\n",
        "print(len(docs))\n"
      ],
      "metadata": {
        "colab": {
          "base_uri": "https://localhost:8080/"
        },
        "id": "demLNfoK4SEv",
        "outputId": "662a417e-c693-4500-e5c8-0e2004d1188f"
      },
      "execution_count": null,
      "outputs": [
        {
          "output_type": "stream",
          "name": "stdout",
          "text": [
            "1\n"
          ]
        }
      ]
    },
    {
      "cell_type": "markdown",
      "source": [
        "### llm이 못알아 들을 수 있으니 <br>**정규 표현식을 사용하여 '하 N.', '중 N.', '상 N.'을 '난이도 하 N.', '난이도 중 N.', '난이도 상 N.'으로 변환**"
      ],
      "metadata": {
        "id": "EtcOc1UR0gI0"
      }
    },
    {
      "cell_type": "code",
      "source": [
        "import re\n",
        "\n",
        "def transform_difficulty_markers(docs):\n",
        "    for i, doc in enumerate(docs):\n",
        "        modified_content = re.sub(r'(하|중|상)( \\d+\\.)', r'난이도 \\1\\2', doc.page_content)\n",
        "        docs[i].page_content = modified_content\n",
        "    return docs\n",
        "\n",
        "# 변환된 문서 사용\n",
        "docs = transform_difficulty_markers(docs)\n",
        "print(docs[0].page_content)"
      ],
      "metadata": {
        "colab": {
          "base_uri": "https://localhost:8080/"
        },
        "id": "Wv2ry88STBCR",
        "outputId": "81a350f6-3bfa-47fe-c104-3e4c08f60f8c"
      },
      "execution_count": null,
      "outputs": [
        {
          "output_type": "stream",
          "name": "stdout",
          "text": [
            "샘플문제 (정답 및 해설 포함)\n",
            "\n",
            "난이도 하 1. 다음 중 간(liver)에서 수행하지 않는 주요 기능은 무엇인가?\n",
            "\n",
            "A. 알부민(albumin) 합성\n",
            "\n",
            "B. 담즙(bile) 생성\n",
            "\n",
            "C. 혈당 조절(glucose regulation)\n",
            "\n",
            "D. 인슐린(insulin) 분비\n",
            "\n",
            "정답: D. 인슐린(insulin) 분비\n",
            " 해설: 인슐린은 췌장(이자)에서 분비되며, 간은 알부민 합성, 담즙 생성, 혈당 조절을 담당합니다.\n",
            "\n",
            "난이도 중 2. 근수축(muscle contraction)에 직접적으로 관여하는 단백질 복합체로 옳은 것은?\n",
            "\n",
            "A. 미오신(myosin)과 트로포닌(troponin)\n",
            "\n",
            "B. 트로포닌(troponin)과 트로포마이오신(tropomyosin)\n",
            "\n",
            "C. 액틴(actin)과 콜라겐(collagen)\n",
            "\n",
            "D. 엘라스틴(elastin)과 미오신(myosin)\n",
            "\n",
            "정답: B. 트로포닌(troponin)과 트로포마이오신(tropomyosin)\n",
            " 해설: 트로포닌과 트로포마이오신은 근수축 시 칼슘과 결합하여 액틴-미오신 상호작용을 조절합니다.\n",
            "\n",
            "난이도 하 3. 다음 중 혈액-뇌 장벽(blood-brain barrier)을 통과하기 가장 쉬운 물질은?\n",
            "\n",
            "A. 포도당(glucose)\n",
            "\n",
            "B. 산소(oxygen)\n",
            "\n",
            "C. 단백질(protein)\n",
            "\n",
            "D. 나트륨 이온(sodium ion)\n",
            "\n",
            "정답: B. 산소(oxygen)\n",
            " 해설: 산소는 지용성 분자로, 혈액-뇌 장벽을 가장 쉽게 통과할 수 있습니다.\n",
            "\n",
            "난이도 중 4. 신장에서 여과(filtration)가 일어나는 주요 구조물은?\n",
            "\n",
            "A. 보우만주머니(Bowman's capsule)\n",
            "\n",
            "B. 근위세뇨관(proximal convoluted tubule)\n",
            "\n",
            "C. 헨레고리(loop of Henle)\n",
            "\n",
            "D. 집합관(collecting duct)\n",
            "\n",
            "정답: A. 보우만주머니(Bowman's capsule)\n",
            " 해설: 신장에서 혈액의 여과는 사구체와 보우만주머니에서 일어납니다.\n",
            "\n",
            "난이도 중 5. 다음 중 자율신경계(autonomic nervous system)의 교감신경계(sympathetic nervous system)의 반응이 아닌 것은?\n",
            "\n",
            "A. 동공 확대(pupil dilation)\n",
            "\n",
            "B. 심박수 증가(increased heart rate)\n",
            "\n",
            "C. 소화활동 촉진(enhanced digestion)\n",
            "\n",
            "D. 기관지 확장(bronchodilation)\n",
            "\n",
            "정답: C. 소화활동 촉진(enhanced digestion)\n",
            " 해설: 교감신경계는 소화 활동을 억제하고, 부교감신경계가 소화활동을 촉진합니다.\n",
            "\n",
            "난이도 상 6. 호르몬 조절(hormonal regulation)에 있어 음성되먹임(negative feedback)의 예로 적절한 것은?\n",
            "\n",
            "A. 혈당 증가 시 글루카곤(glucagon) 분비 증가\n",
            "\n",
            "B. 혈중 칼슘 농도 감소 시 칼시토닌(calcitonin) 분비 증가\n",
            "\n",
            "C. 갑상선 호르몬(thyroid hormone) 증가 시 TSH 감소\n",
            "\n",
            "D. 체온 증가 시 땀샘 분비 감소\n",
            "\n",
            "정답: C. 갑상선 호르몬(thyroid hormone) 증가 시 TSH 감소\n",
            " 해설: 갑상선 호르몬이 증가하면 뇌하수체에서 TSH 분비가 억제되는 것이 대표적인 음성 피드백입니다.\n",
            "\n",
            "난이도 중 7. 근육의 유형 중 심장근(cardiac muscle)에 대한 설명으로 옳지 않은 것은?\n",
            "\n",
            "A. 불수의근(involuntary muscle)이다.\n",
            "\n",
            "B. 간극결합(gap junction)을 포함한다.\n",
            "\n",
            "C. 수축은 자율신경계에 의해 조절된다.\n",
            "\n",
            "D. 핵이 다수 존재한다.\n",
            "\n",
            "정답: D. 핵이 다수 존재한다.\n",
            " 해설: 심장근은 대부분 단일 핵을 가지며 다수의 핵은 골격근의 특징입니다.\n",
            "\n",
            "난이도 하 8. 혈액의 항상성(homeostasis)을 유지하는 과정에서 혈소판(platelets)의 주요 역할은?\n",
            "\n",
            "A. 산소 운반\n",
            "\n",
            "B. 면역 반응 촉진\n",
            "\n",
            "C. 혈액 응고 시작\n",
            "\n",
            "D. 삼투압 유지\n",
            "\n",
            "정답: C. 혈액 응고 시작\n",
            " 해설: 혈소판은 혈관이 손상되었을 때 혈액응고를 시작하는 역할을 합니다.\n",
            "\n",
            "난이도 중 9. 신경세포(neuron)의 활동전위(action potential)에서 탈분극(depolarization)이 일어나는 원인은?\n",
            "\n",
            "A. 칼슘 이온의 유입\n",
            "\n",
            "B. 칼륨 이온의 유출\n",
            "\n",
            "C. 나트륨 이온의 유입\n",
            "\n",
            "D. 염소 이온의 유입\n",
            "\n",
            "정답: C. 나트륨 이온의 유입\n",
            " 해설: 나트륨 이온이 세포 안으로 들어오면서 막 전위가 양전하로 변하는 것이 탈분극입니다.\n",
            "\n",
            "난이도 중 10. 다음 중 간뇌(diencephalon)에 속하는 구조물이 아닌 것은?\n",
            "\n",
            "A. 시상(thalamus)\n",
            "\n",
            "B. 시상하부(hypothalamus)\n",
            "\n",
            "C. 송과선(pineal gland)\n",
            "\n",
            "D. 연수(medulla oblongata)\n",
            "\n",
            "정답: D. 연수(medulla oblongata)\n",
            " 해설: 연수는 뇌간에 속하며, 간뇌에는 시상, 시상하부, 송과선이 포함됩니다.\n"
          ]
        }
      ]
    },
    {
      "cell_type": "markdown",
      "source": [
        "# **2단계: 텍스트 분할**"
      ],
      "metadata": {
        "id": "8yUwnpBuQqRF"
      }
    },
    {
      "cell_type": "code",
      "source": [
        "import re\n",
        "from langchain_community.document_loaders import UnstructuredWordDocumentLoader\n",
        "\n",
        "# 2. 청킹을 위한 정규식 패턴 정의\n",
        "pattern = r'(난이도 하 \\d+\\.|난이도 중 \\d+\\.|난이도 상 \\d+\\.)'\n",
        "\n",
        "# 3. 커스텀 분할 함수\n",
        "def question_splitter(text, pattern):\n",
        "    splits = re.split(pattern, text)\n",
        "    chunks = []\n",
        "    for i in range(1, len(splits), 2):\n",
        "        if i+1 < len(splits):\n",
        "            chunk = splits[i] + splits[i+1]\n",
        "            chunks.append(chunk.strip())\n",
        "    return chunks\n",
        "\n",
        "# 4. 문서 내용 추출 및 분할\n",
        "full_text = docs[0].page_content  # 로드된 문서의 전체 텍스트\n",
        "question_chunks = question_splitter(full_text, pattern)\n",
        "\n",
        "# 5. 결과 확인\n",
        "for idx, chunk in enumerate(question_chunks[:3]):  # 상위 3개 샘플 출력\n",
        "    print(f\"=== 문제 {idx+1} ===\")\n",
        "    print(chunk)\n",
        "    print(\"\\n\")\n"
      ],
      "metadata": {
        "colab": {
          "base_uri": "https://localhost:8080/"
        },
        "id": "1c05YqO-4SMB",
        "outputId": "34608a77-461f-4990-9e93-2f21d3a85be0"
      },
      "execution_count": null,
      "outputs": [
        {
          "output_type": "stream",
          "name": "stdout",
          "text": [
            "=== 문제 1 ===\n",
            "난이도 하 1. 다음 중 간(liver)에서 수행하지 않는 주요 기능은 무엇인가?\n",
            "\n",
            "A. 알부민(albumin) 합성\n",
            "\n",
            "B. 담즙(bile) 생성\n",
            "\n",
            "C. 혈당 조절(glucose regulation)\n",
            "\n",
            "D. 인슐린(insulin) 분비\n",
            "\n",
            "정답: D. 인슐린(insulin) 분비\n",
            " 해설: 인슐린은 췌장(이자)에서 분비되며, 간은 알부민 합성, 담즙 생성, 혈당 조절을 담당합니다.\n",
            "\n",
            "\n",
            "=== 문제 2 ===\n",
            "난이도 중 2. 근수축(muscle contraction)에 직접적으로 관여하는 단백질 복합체로 옳은 것은?\n",
            "\n",
            "A. 미오신(myosin)과 트로포닌(troponin)\n",
            "\n",
            "B. 트로포닌(troponin)과 트로포마이오신(tropomyosin)\n",
            "\n",
            "C. 액틴(actin)과 콜라겐(collagen)\n",
            "\n",
            "D. 엘라스틴(elastin)과 미오신(myosin)\n",
            "\n",
            "정답: B. 트로포닌(troponin)과 트로포마이오신(tropomyosin)\n",
            " 해설: 트로포닌과 트로포마이오신은 근수축 시 칼슘과 결합하여 액틴-미오신 상호작용을 조절합니다.\n",
            "\n",
            "\n",
            "=== 문제 3 ===\n",
            "난이도 하 3. 다음 중 혈액-뇌 장벽(blood-brain barrier)을 통과하기 가장 쉬운 물질은?\n",
            "\n",
            "A. 포도당(glucose)\n",
            "\n",
            "B. 산소(oxygen)\n",
            "\n",
            "C. 단백질(protein)\n",
            "\n",
            "D. 나트륨 이온(sodium ion)\n",
            "\n",
            "정답: B. 산소(oxygen)\n",
            " 해설: 산소는 지용성 분자로, 혈액-뇌 장벽을 가장 쉽게 통과할 수 있습니다.\n",
            "\n",
            "\n"
          ]
        }
      ]
    },
    {
      "cell_type": "markdown",
      "source": [
        "# **3단계: 임베딩**"
      ],
      "metadata": {
        "id": "jvkDZ65_7mm_"
      }
    },
    {
      "cell_type": "code",
      "source": [
        "import torch\n",
        "from transformers import AutoModel, AutoTokenizer\n",
        "\n",
        "# 1. 모델과 토크나이저 로드\n",
        "model_name = 'BM-K/KoSimCSE-roberta'\n",
        "tokenizer = AutoTokenizer.from_pretrained(model_name)\n",
        "model = AutoModel.from_pretrained(model_name)\n",
        "\n",
        "# 2. 임베딩 추출 함수 수정 (문장 수준 임베딩)\n",
        "def get_embeddings(sentences):\n",
        "    # 입력: 문장 리스트 (예: [\"문장1\", \"문장2\", ...])\n",
        "    inputs = tokenizer(\n",
        "        sentences,\n",
        "        padding=True,\n",
        "        truncation=True,\n",
        "        max_length=512,  # 최대 길이 제한\n",
        "        return_tensors=\"pt\"\n",
        "    )\n",
        "\n",
        "    with torch.no_grad():\n",
        "        outputs = model(**inputs)\n",
        "\n",
        "    # [CLS] 토큰 임베딩 추출 (첫 번째 토큰)\n",
        "    # outputs.last_hidden_state.shape = (batch_size, seq_len, hidden_dim)\n",
        "    cls_embeddings = outputs.last_hidden_state[:, 0, :]\n",
        "\n",
        "    # 정규화 (선택 사항)\n",
        "    cls_embeddings = torch.nn.functional.normalize(cls_embeddings, p=2, dim=1)\n",
        "\n",
        "    return cls_embeddings\n",
        "\n",
        "# 3. 예시: 청킹된 문제 리스트를 임베딩\n",
        "embeddings = get_embeddings(question_chunks)  # (num_chunks, 768) 형태 텐서\n",
        "\n",
        "# 4. 임베딩 결과 확인\n",
        "print(embeddings.shape)  # → torch.Size([문항개수, 768])\n"
      ],
      "metadata": {
        "colab": {
          "base_uri": "https://localhost:8080/"
        },
        "id": "aTJWp-tl4SQw",
        "outputId": "cc8af081-f3fc-4ed4-d60e-f17c661c1242"
      },
      "execution_count": null,
      "outputs": [
        {
          "output_type": "stream",
          "name": "stdout",
          "text": [
            "torch.Size([10, 768])\n"
          ]
        }
      ]
    },
    {
      "cell_type": "markdown",
      "source": [
        "# **4단계: FAISS 벡터 스토어 생성**"
      ],
      "metadata": {
        "id": "evf_f6Lh_HY-"
      }
    },
    {
      "cell_type": "code",
      "source": [
        "import numpy as np\n",
        "import faiss\n",
        "import pickle\n",
        "import os\n",
        "\n",
        "# 저장 경로 설정\n",
        "save_dir = '/content/drive/MyDrive/tutor_store'\n",
        "\n",
        "# 1. 임베딩을 NumPy 배열로 변환 (KoSimCSE 출력이 PyTorch 텐서라 가정)\n",
        "embeddings_np = embeddings.numpy().astype('float32')  # (num_chunks, 768)\n",
        "\n",
        "# 2. FAISS 인덱스 생성 (L2 거리 기준)\n",
        "dimension = embeddings_np.shape[1]  # 768\n",
        "faiss_index = faiss.IndexFlatL2(dimension)\n",
        "\n",
        "# 3. 임베딩을 인덱스에 추가\n",
        "faiss_index.add(embeddings_np)\n",
        "\n",
        "# 4. 벡터스토어와 청크 매핑 저장\n",
        "faiss_path = os.path.join(save_dir, \"medical_qa_index.faiss\")\n",
        "chunk_path = os.path.join(save_dir, \"chunk_mapping.pkl\")\n",
        "\n",
        "# FAISS 인덱스 저장\n",
        "faiss.write_index(faiss_index, faiss_path)\n",
        "print(f\"FAISS 인덱스가 {faiss_path}에 저장되었습니다.\")\n",
        "\n",
        "# 청크 리스트 저장 (검색 시 텍스트 복원용)\n",
        "with open(chunk_path, 'wb') as f:\n",
        "    pickle.dump(question_chunks, f)\n",
        "print(f\"청크 매핑이 {chunk_path}에 저장되었습니다.\")"
      ],
      "metadata": {
        "colab": {
          "base_uri": "https://localhost:8080/"
        },
        "id": "aOn1UZpw4SXX",
        "outputId": "888262c3-755d-4541-cbfe-90ddea502fe9"
      },
      "execution_count": null,
      "outputs": [
        {
          "output_type": "stream",
          "name": "stdout",
          "text": [
            "FAISS 인덱스가 /content/drive/MyDrive/tutor_store/medical_qa_index.faiss에 저장되었습니다.\n",
            "청크 매핑이 /content/drive/MyDrive/tutor_store/chunk_mapping.pkl에 저장되었습니다.\n"
          ]
        }
      ]
    },
    {
      "cell_type": "markdown",
      "source": [
        "# 5단계: tutor 시스템 구현 (gemini-1.5-pro)"
      ],
      "metadata": {
        "id": "EAuwqYyvWbO8"
      }
    },
    {
      "cell_type": "code",
      "source": [
        "import os\n",
        "import faiss\n",
        "import numpy as np\n",
        "import pickle\n",
        "import re\n",
        "import gradio as gr\n",
        "from google.colab import drive, userdata\n",
        "from typing import List, Optional\n",
        "from langchain.prompts import ChatPromptTemplate\n",
        "from langchain_google_genai import ChatGoogleGenerativeAI\n",
        "\n",
        "# 드라이브 마운트 및 Gemini API 키 설정\n",
        "drive.mount('/content/drive')\n",
        "os.environ['GOOGLE_API_KEY'] = userdata.get('Gemini_API_KEY')\n",
        "\n",
        "# 벡터스토어 경로 설정\n",
        "store_dir = '/content/drive/MyDrive/tutor_store'\n",
        "faiss_path = os.path.join(store_dir, \"medical_qa_index.faiss\")\n",
        "chunk_path = os.path.join(store_dir, \"chunk_mapping.pkl\")\n",
        "\n",
        "# 벡터스토어 로드\n",
        "faiss_index = faiss.read_index(faiss_path)\n",
        "with open(chunk_path, 'rb') as f:\n",
        "    question_chunks = pickle.load(f)\n",
        "\n",
        "# LLM 초기화\n",
        "llm = ChatGoogleGenerativeAI(model=\"gemini-1.5-pro\")\n",
        "\n",
        "# 세션 상태 저장 클래스\n",
        "class SessionState:\n",
        "    def __init__(self):\n",
        "        self.current_level = \"난이도 하\"\n",
        "        self.correct_count = 0\n",
        "        self.incorrect_count = 0\n",
        "        self.current_question = None\n",
        "        self.current_answer = None\n",
        "        self.question_ids = set()\n",
        "\n",
        "    @property\n",
        "    def total_attempts(self):\n",
        "        return self.correct_count + self.incorrect_count\n",
        "\n",
        "    @property\n",
        "    def success_rate(self):\n",
        "        return (self.correct_count / self.total_attempts) if self.total_attempts else 0\n",
        "\n",
        "    def update_stats(self, is_correct: bool):\n",
        "        if is_correct:\n",
        "            self.correct_count += 1\n",
        "            if self.current_level == \"난이도 하\" and self.success_rate >= 0.7 and self.total_attempts >= 3:\n",
        "                self.current_level = \"난이도 중\"\n",
        "            elif self.current_level == \"난이도 중\" and self.success_rate >= 0.7 and self.total_attempts >= 3:\n",
        "                self.current_level = \"난이도 상\"\n",
        "        else:\n",
        "            self.incorrect_count += 1\n",
        "            if self.current_level == \"난이도 상\" and self.success_rate < 0.5:\n",
        "                self.current_level = \"난이도 중\"\n",
        "            elif self.current_level == \"난이도 중\" and self.success_rate < 0.3:\n",
        "                self.current_level = \"난이도 하\"\n",
        "\n",
        "# 텍스트 처리 유틸 함수들\n",
        "def get_level_from_text(text: str) -> str:\n",
        "    if text.startswith(\"난이도 하\"): return \"난이도 하\"\n",
        "    if text.startswith(\"난이도 중\"): return \"난이도 중\"\n",
        "    if text.startswith(\"난이도 상\"): return \"난이도 상\"\n",
        "    match = re.match(r'(난이도\\s*[하중상])', text)\n",
        "    return match.group(1) if match else \"난이도 하\"\n",
        "\n",
        "\n",
        "def process_question(text: str):\n",
        "    if \"정답:\" not in text:\n",
        "        return text, \"\", \"\"\n",
        "    q_part = text.split(\"정답:\")[0].strip()\n",
        "    a_full = text.split(\"정답:\")[1].split(\"\\n\")[0].strip()\n",
        "    # 정답이 \"D. 인슐린(insulin) 분비\" 형태일 때 첫 글자만 추출\n",
        "    a_part = a_full.split('.')[0].strip() if '.' in a_full else a_full\n",
        "    exp = text.split(\"해설:\")[1].strip() if \"해설:\" in text else \"\"\n",
        "    return q_part, a_part, exp\n",
        "\n",
        "\n",
        "def get_questions_by_level(level: str) -> List[str]:\n",
        "    return [q for q in question_chunks if get_level_from_text(q) == level]\n",
        "\n",
        "\n",
        "def select_next_question(session: SessionState) -> Optional[str]:\n",
        "    avail = get_questions_by_level(session.current_level)\n",
        "    unseen = [q for q in avail if hash(q) not in session.question_ids]\n",
        "    if unseen:\n",
        "        sel = np.random.choice(unseen)\n",
        "        session.question_ids.add(hash(sel))\n",
        "        return sel\n",
        "    for lvl in [\"난이도 하\", \"난이도 중\", \"난이도 상\"]:\n",
        "        if lvl != session.current_level:\n",
        "            others = [q for q in get_questions_by_level(lvl) if hash(q) not in session.question_ids]\n",
        "            if others:\n",
        "                session.current_level = lvl\n",
        "                sel = np.random.choice(others)\n",
        "                session.question_ids.add(hash(sel))\n",
        "                return sel\n",
        "    session.question_ids.clear()\n",
        "    return np.random.choice(avail) if avail else None\n",
        "\n",
        "# LLM 피드백용 프롬프트\n",
        "feedback_prompt = ChatPromptTemplate.from_template(\"\"\"\n",
        "당신은 작업치료사 국가고시 전문가입니다. 다음 정보를 바탕으로 학생에게 유익한 피드백을 제공해주세요:\n",
        "\n",
        "문제: {question}\n",
        "학생 답변: {user_answer}\n",
        "정답: {correct_answer}\n",
        "\n",
        "{result_prefix}\n",
        "\n",
        "피드백을 제공할 때:\n",
        "1. 학생의 이해도를 격려하세요\n",
        "2. 왜 해당 답변이 맞거나 틀렸는지 간략히 설명하세요\n",
        "3. 핵심 개념을 한 문장으로 요약하세요\n",
        "\"\"\")\n",
        "\n",
        "def hide_answer_from_question(text: str) -> str:\n",
        "    return text.split(\"정답:\")[0].strip() if \"정답:\" in text else text\n",
        "\n",
        "# 피드백 생성 함수\n",
        "def generate_feedback(session: SessionState, user_answer: str, is_correct: bool) -> str:\n",
        "    try:\n",
        "        question, _, _ = process_question(session.current_question)\n",
        "        prompt = feedback_prompt.format(\n",
        "            question=question,\n",
        "            user_answer=user_answer,\n",
        "            correct_answer=session.current_answer,\n",
        "            result_prefix=\"정답입니다!\" if is_correct else \"아쉽게도 오답입니다.\"\n",
        "        )\n",
        "        resp = llm.invoke(prompt)\n",
        "        fb = resp.content\n",
        "    except Exception:\n",
        "        fb = (\"정답입니다!\" if is_correct else \"오답입니다.\") + f\" 정답은 {session.current_answer}입니다.\"\n",
        "    if not is_correct:\n",
        "        fb += f\"\\n\\n**정답**: {session.current_answer}\"\n",
        "    _, _, exp = process_question(session.current_question)\n",
        "    if exp:\n",
        "        fb += f\"\\n\\n**해설**: {exp}\"\n",
        "    return fb\n",
        "\n",
        "# 다음 문제 준비 함수\n",
        "def prepare_next_question(session: SessionState) -> str:\n",
        "    nxt = select_next_question(session)\n",
        "    if not nxt:\n",
        "        return \"**모든 문제를 풀었습니다! 수고하셨습니다.**\"\n",
        "    q, a, _ = process_question(nxt)\n",
        "    session.current_question = nxt\n",
        "    session.current_answer = a\n",
        "    q_only = hide_answer_from_question(q)\n",
        "    info = (f\"**학습 진행 상황**\\n\"\n",
        "            f\"- 현재 난이도: {session.current_level}\\n\"\n",
        "            f\"- 푼 문제: {session.total_attempts}문제\\n\"\n",
        "            f\"- 맞춘 문제: {session.correct_count}문제\\n\"\n",
        "            f\"- 틀린 문제: {session.incorrect_count}문제\\n\\n\")\n",
        "    return info + f\"**다음 문제**\\n{q_only}\"\n",
        "\n",
        "# 채팅 인터페이스 함수\n",
        "def chat_interface(message, history, session_state):\n",
        "    if not message or not message.strip():\n",
        "        return history, \"\"\n",
        "    # 첫 질문\n",
        "    if not history:\n",
        "        q_full = select_next_question(session_state)\n",
        "        if not q_full:\n",
        "            return [{\"role\": \"assistant\", \"content\": \"문제를 불러올 수 없습니다.\"}], \"\"\n",
        "        q, a, _ = process_question(q_full)\n",
        "        session_state.current_question = q_full\n",
        "        session_state.current_answer = a\n",
        "        return [\n",
        "            {\"role\": \"assistant\", \"content\": \"안녕하세요! 작업치료사 국가고시 문제 풀이를 시작합니다.\"},\n",
        "            {\"role\": \"assistant\", \"content\": hide_answer_from_question(q)}\n",
        "        ], \"\"\n",
        "    # 답안 처리\n",
        "    new_hist = history.copy()\n",
        "    user_ans = message.strip().upper()\n",
        "    new_hist.append({\"role\": \"user\", \"content\": user_ans})\n",
        "    correct = (user_ans == session_state.current_answer.upper())\n",
        "    session_state.update_stats(correct)\n",
        "    fb = generate_feedback(session_state, user_ans, correct)\n",
        "    nxt_q = prepare_next_question(session_state)\n",
        "    new_hist.append({\"role\": \"assistant\", \"content\": fb + \"\\n\\n\" + nxt_q})\n",
        "    return new_hist, \"\"\n",
        "\n",
        "# 버튼 클릭 처리 함수\n",
        "def answer_click(answer, history, session_state):\n",
        "    new_history, _ = chat_interface(answer, history, session_state)\n",
        "    return new_history\n",
        "\n",
        "# 세션 초기화 함수\n",
        "def clear_chat():\n",
        "    new_sess = SessionState()\n",
        "    first = select_next_question(new_sess)\n",
        "    q, a, _ = process_question(first)\n",
        "    new_sess.current_question = first\n",
        "    new_sess.current_answer = a\n",
        "    return new_sess, [\n",
        "        {\"role\": \"assistant\", \"content\": \"안녕하세요! 작업치료사 국가고시 문제 풀이를 시작합니다.\"},\n",
        "        {\"role\": \"assistant\", \"content\": hide_answer_from_question(q)}\n",
        "    ]\n",
        "\n",
        "# Gradio UI 구성\n",
        "with gr.Blocks(css=\"\"\"\n",
        "    .gradio-container {max-width: 900px; margin: auto;}\n",
        "    .chat-history {height: 600px !important;}\n",
        "    footer {display: none !important;}\n",
        "\"\"\") as demo:\n",
        "    gr.Markdown(\"# 🎓 작업치료사 국가고시 문제 학습 챗봇\")\n",
        "    gr.Markdown(\"버튼을 눌러 답안을 선택하세요.\")\n",
        "\n",
        "    session_state = gr.State(SessionState())\n",
        "    chatbot = gr.Chatbot(label=\"학습 대화\", height=500, type=\"messages\", render_markdown=True)\n",
        "\n",
        "    with gr.Row():\n",
        "        btn_A = gr.Button(\"A\")\n",
        "        btn_B = gr.Button(\"B\")\n",
        "        btn_C = gr.Button(\"C\")\n",
        "        btn_D = gr.Button(\"D\")\n",
        "        clear_btn = gr.Button(\"초기화\")\n",
        "\n",
        "    btn_A.click(lambda history, ss: answer_click(\"A\", history, ss), inputs=[chatbot, session_state], outputs=[chatbot])\n",
        "    btn_B.click(lambda history, ss: answer_click(\"B\", history, ss), inputs=[chatbot, session_state], outputs=[chatbot])\n",
        "    btn_C.click(lambda history, ss: answer_click(\"C\", history, ss), inputs=[chatbot, session_state], outputs=[chatbot])\n",
        "    btn_D.click(lambda history, ss: answer_click(\"D\", history, ss), inputs=[chatbot, session_state], outputs=[chatbot])\n",
        "\n",
        "    clear_btn.click(clear_chat, outputs=[session_state, chatbot])\n",
        "    demo.load(clear_chat, outputs=[session_state, chatbot])\n",
        "\n",
        "if __name__ == \"__main__\":\n",
        "    demo.launch(share=True)"
      ],
      "metadata": {
        "colab": {
          "base_uri": "https://localhost:8080/",
          "height": 631
        },
        "id": "_BUAU9gZvMa7",
        "outputId": "c0413a79-99e1-4719-f53f-599cdcdc217a"
      },
      "execution_count": null,
      "outputs": [
        {
          "output_type": "stream",
          "name": "stdout",
          "text": [
            "Drive already mounted at /content/drive; to attempt to forcibly remount, call drive.mount(\"/content/drive\", force_remount=True).\n",
            "Colab notebook detected. To show errors in colab notebook, set debug=True in launch()\n",
            "* Running on public URL: https://59745050e818cf11fa.gradio.live\n",
            "\n",
            "This share link expires in 1 week. For free permanent hosting and GPU upgrades, run `gradio deploy` from the terminal in the working directory to deploy to Hugging Face Spaces (https://huggingface.co/spaces)\n"
          ]
        },
        {
          "output_type": "display_data",
          "data": {
            "text/plain": [
              "<IPython.core.display.HTML object>"
            ],
            "text/html": [
              "<div><iframe src=\"https://59745050e818cf11fa.gradio.live\" width=\"100%\" height=\"500\" allow=\"autoplay; camera; microphone; clipboard-read; clipboard-write;\" frameborder=\"0\" allowfullscreen></iframe></div>"
            ]
          },
          "metadata": {}
        }
      ]
    },
    {
      "cell_type": "code",
      "source": [],
      "metadata": {
        "id": "p-V0njr8zCjG"
      },
      "execution_count": null,
      "outputs": []
    }
  ]
}